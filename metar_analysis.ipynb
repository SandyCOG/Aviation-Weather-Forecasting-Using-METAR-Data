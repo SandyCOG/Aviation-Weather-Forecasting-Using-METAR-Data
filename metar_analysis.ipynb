import numpy as np
import pandas as pd
import matplotlib.pyplot as plt
import seaborn as sns

df = pd.read_csv("your_text_file.txt", sep=" ")
print(df)
